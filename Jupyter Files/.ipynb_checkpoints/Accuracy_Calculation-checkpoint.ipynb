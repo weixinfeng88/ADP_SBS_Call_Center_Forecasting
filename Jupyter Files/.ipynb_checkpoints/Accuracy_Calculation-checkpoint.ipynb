{
 "cells": [
  {
   "cell_type": "code",
   "execution_count": 1,
   "id": "a6a3ba8c-7e58-4ada-8e51-d153ed64af3f",
   "metadata": {},
   "outputs": [],
   "source": [
    "import pandas as pd"
   ]
  },
  {
   "cell_type": "code",
   "execution_count": 27,
   "id": "5aac30bc-bf76-4316-9c04-cef3cb16c637",
   "metadata": {},
   "outputs": [],
   "source": [
    "import numpy as np"
   ]
  },
  {
   "cell_type": "code",
   "execution_count": 3,
   "id": "c1c67eff-a8b2-436f-8bdb-117ec9e53c8e",
   "metadata": {},
   "outputs": [],
   "source": [
    "data = pd.read_csv(r'forecast_results_2025-04.csv')"
   ]
  },
  {
   "cell_type": "code",
   "execution_count": 5,
   "id": "3823a3b9-3f8d-48e2-9e6e-6814132e24e4",
   "metadata": {},
   "outputs": [],
   "source": [
    "data['Timestamp']=pd.to_datetime(data['Timestamp'])"
   ]
  },
  {
   "cell_type": "code",
   "execution_count": 8,
   "id": "7bc6455e-02a6-45fa-a31d-07f070b94c8e",
   "metadata": {},
   "outputs": [],
   "source": [
    "data_=pd.read_excel('CS_South_Forecasting_2025_05_19.xlsx',sheet_name='Forecasting Data')"
   ]
  },
  {
   "cell_type": "code",
   "execution_count": 11,
   "id": "537ef09a-2e89-48d6-aee8-efa2c0f0e501",
   "metadata": {},
   "outputs": [],
   "source": [
    "data_['datetime']=pd.to_datetime(data_['datetime'])"
   ]
  },
  {
   "cell_type": "code",
   "execution_count": 14,
   "id": "0005a557-178e-4571-bb57-1fd0f3a1face",
   "metadata": {},
   "outputs": [],
   "source": [
    "from datetime import time\n",
    "\n",
    "# Filter between 08:00 and 18:00\n",
    "df_filtered = data[(data['Timestamp'].dt.time >= time(9, 0)) & (data['Timestamp'].dt.time <= time(19, 30))]"
   ]
  },
  {
   "cell_type": "code",
   "execution_count": 16,
   "id": "ee5a0082-0a49-4e3a-be19-f1e8eba442ca",
   "metadata": {},
   "outputs": [],
   "source": [
    "df_filtered_ = data_[(data_['datetime'].dt.time >= time(9, 0)) & (data_['datetime'].dt.time <= time(19, 30))]"
   ]
  },
  {
   "cell_type": "code",
   "execution_count": 22,
   "id": "61e39c81-cb7e-46a8-9a6e-f0b6ba8d771d",
   "metadata": {},
   "outputs": [],
   "source": [
    "df_filtered_ = df_filtered_[(df_filtered_['datetime'].dt.date >= pd.to_datetime('2025-04-01 00:00:00').date()) & (df_filtered_['datetime'].dt.date <= pd.to_datetime('2025-04-29 00:00:00').date())]"
   ]
  },
  {
   "cell_type": "code",
   "execution_count": 25,
   "id": "6a9725b1-f995-4997-a595-546e94497c7a",
   "metadata": {},
   "outputs": [],
   "source": [
    "compare=pd.merge(df_filtered,df_filtered_,left_on='Timestamp',right_on='datetime')"
   ]
  },
  {
   "cell_type": "code",
   "execution_count": 47,
   "id": "e3da5efb-4ddb-4132-92b7-2601414361e8",
   "metadata": {},
   "outputs": [],
   "source": [
    "compare['Date']=compare['Timestamp'].dt.date"
   ]
  },
  {
   "cell_type": "code",
   "execution_count": 33,
   "id": "99625cf6-a642-4696-be65-ec7dc500ad9b",
   "metadata": {},
   "outputs": [],
   "source": [
    "compare['mape_']=np.abs(compare['Actual_actoff']-compare['Raw_Predicted_actoff'])/(compare['Actual_actoff'])*100"
   ]
  },
  {
   "cell_type": "code",
   "execution_count": 30,
   "id": "66362931-b2bc-43e4-817f-9580e162fc34",
   "metadata": {},
   "outputs": [
    {
     "data": {
      "text/plain": [
       "np.float64(4724.567270755768)"
      ]
     },
     "execution_count": 30,
     "metadata": {},
     "output_type": "execute_result"
    }
   ],
   "source": [
    "np.abs(compare['Actual_actoff']-compare['predict']).sum()"
   ]
  },
  {
   "cell_type": "code",
   "execution_count": 32,
   "id": "4fa15fbb-4528-413c-b435-0bd64063f947",
   "metadata": {},
   "outputs": [
    {
     "data": {
      "text/plain": [
       "np.float64(26.491879012803523)"
      ]
     },
     "execution_count": 32,
     "metadata": {},
     "output_type": "execute_result"
    }
   ],
   "source": [
    "compare['mape'].mean()"
   ]
  },
  {
   "cell_type": "code",
   "execution_count": 35,
   "id": "4cc01370-5bf0-4d0f-a8dd-1af68789b8bf",
   "metadata": {},
   "outputs": [
    {
     "data": {
      "text/plain": [
       "np.float64(20.860667484730705)"
      ]
     },
     "execution_count": 35,
     "metadata": {},
     "output_type": "execute_result"
    }
   ],
   "source": [
    "compare['mape_'].mean()"
   ]
  },
  {
   "cell_type": "code",
   "execution_count": 43,
   "id": "ee9cb6d9-8ba6-4e63-8697-777e4937ccce",
   "metadata": {},
   "outputs": [],
   "source": [
    "check = data[(data['Timestamp'].dt.time <= time(9, 30))]"
   ]
  },
  {
   "cell_type": "code",
   "execution_count": 62,
   "id": "07bedd0f-3912-41c5-a902-1ee9d5d003e2",
   "metadata": {},
   "outputs": [],
   "source": [
    "pd.set_option('display.max_rows', 100)"
   ]
  },
  {
   "cell_type": "code",
   "execution_count": 53,
   "id": "06d88957-c066-4872-9a38-dfe8a4539e28",
   "metadata": {},
   "outputs": [
    {
     "name": "stderr",
     "output_type": "stream",
     "text": [
      "/tmp/ipykernel_3998518/3073614495.py:1: DeprecationWarning: DataFrameGroupBy.apply operated on the grouping columns. This behavior is deprecated, and in a future version of pandas the grouping columns will be excluded from the operation. Either pass `include_groups=False` to exclude the groupings or explicitly select the grouping columns after groupby to silence this warning.\n",
      "  weighted_mape_=compare.groupby('Date').apply(lambda g: abs(g['Actual_actoff']-g['Raw_Predicted_actoff']).sum()/(g['Actual_actoff']).sum()*100).reset_index(name='Weighted_Mape_')\n"
     ]
    }
   ],
   "source": [
    "weighted_mape_=compare.groupby('Date').apply(lambda g: abs(g['Actual_actoff']-g['Raw_Predicted_actoff']).sum()/(g['Actual_actoff']).sum()*100).reset_index(name='Weighted_Mape_')"
   ]
  },
  {
   "cell_type": "code",
   "execution_count": 55,
   "id": "1b13f8b0-5d36-438f-a6b3-a3e020bb2ac6",
   "metadata": {},
   "outputs": [
    {
     "name": "stderr",
     "output_type": "stream",
     "text": [
      "/tmp/ipykernel_3998518/3620198157.py:1: DeprecationWarning: DataFrameGroupBy.apply operated on the grouping columns. This behavior is deprecated, and in a future version of pandas the grouping columns will be excluded from the operation. Either pass `include_groups=False` to exclude the groupings or explicitly select the grouping columns after groupby to silence this warning.\n",
      "  weighted_mape=compare.groupby('Date').apply(lambda g: abs(g['Actual_actoff']-g['predict']).sum()/(g['Actual_actoff']).sum()*100).reset_index(name='Weighted_Mape_')\n"
     ]
    }
   ],
   "source": [
    "weighted_mape=compare.groupby('Date').apply(lambda g: abs(g['Actual_actoff']-g['predict']).sum()/(g['Actual_actoff']).sum()*100).reset_index(name='Weighted_Mape_')"
   ]
  },
  {
   "cell_type": "code",
   "execution_count": 57,
   "id": "b6e15761-18e4-45ce-81fc-70e3f1c303d2",
   "metadata": {},
   "outputs": [],
   "source": [
    "merge_df=pd.merge(weighted_mape_,weighted_mape,on='Date')"
   ]
  },
  {
   "cell_type": "code",
   "execution_count": 58,
   "id": "f5aec539-7f75-4c2b-997c-5e5bc59e343e",
   "metadata": {},
   "outputs": [],
   "source": [
    "merge_df.columns=['Date','mape_','mape']"
   ]
  },
  {
   "cell_type": "code",
   "execution_count": 60,
   "id": "27ff2eb8-0617-4bc6-9440-ef6b131d7fc5",
   "metadata": {},
   "outputs": [
    {
     "data": {
      "text/plain": [
       "np.float64(15.200275954226624)"
      ]
     },
     "execution_count": 60,
     "metadata": {},
     "output_type": "execute_result"
    }
   ],
   "source": [
    "merge_df['mape_'].mean()"
   ]
  },
  {
   "cell_type": "code",
   "execution_count": 61,
   "id": "78568573-76b9-4a3f-978b-cfc021a93719",
   "metadata": {},
   "outputs": [
    {
     "data": {
      "text/plain": [
       "np.float64(16.920736628643844)"
      ]
     },
     "execution_count": 61,
     "metadata": {},
     "output_type": "execute_result"
    }
   ],
   "source": [
    "merge_df['mape'].mean()"
   ]
  },
  {
   "cell_type": "code",
   "execution_count": 63,
   "id": "7a07ee59-6464-488f-8df7-add41a7ea2b5",
   "metadata": {},
   "outputs": [
    {
     "data": {
      "text/html": [
       "<div>\n",
       "<style scoped>\n",
       "    .dataframe tbody tr th:only-of-type {\n",
       "        vertical-align: middle;\n",
       "    }\n",
       "\n",
       "    .dataframe tbody tr th {\n",
       "        vertical-align: top;\n",
       "    }\n",
       "\n",
       "    .dataframe thead th {\n",
       "        text-align: right;\n",
       "    }\n",
       "</style>\n",
       "<table border=\"1\" class=\"dataframe\">\n",
       "  <thead>\n",
       "    <tr style=\"text-align: right;\">\n",
       "      <th></th>\n",
       "      <th>Date</th>\n",
       "      <th>mape_</th>\n",
       "      <th>mape</th>\n",
       "    </tr>\n",
       "  </thead>\n",
       "  <tbody>\n",
       "    <tr>\n",
       "      <th>0</th>\n",
       "      <td>2025-04-01</td>\n",
       "      <td>28.068392</td>\n",
       "      <td>7.808951</td>\n",
       "    </tr>\n",
       "    <tr>\n",
       "      <th>1</th>\n",
       "      <td>2025-04-02</td>\n",
       "      <td>11.257173</td>\n",
       "      <td>10.901851</td>\n",
       "    </tr>\n",
       "    <tr>\n",
       "      <th>2</th>\n",
       "      <td>2025-04-03</td>\n",
       "      <td>19.550043</td>\n",
       "      <td>14.333674</td>\n",
       "    </tr>\n",
       "    <tr>\n",
       "      <th>3</th>\n",
       "      <td>2025-04-04</td>\n",
       "      <td>12.062874</td>\n",
       "      <td>11.592582</td>\n",
       "    </tr>\n",
       "    <tr>\n",
       "      <th>4</th>\n",
       "      <td>2025-04-07</td>\n",
       "      <td>18.631989</td>\n",
       "      <td>9.126641</td>\n",
       "    </tr>\n",
       "    <tr>\n",
       "      <th>5</th>\n",
       "      <td>2025-04-08</td>\n",
       "      <td>14.362798</td>\n",
       "      <td>10.838484</td>\n",
       "    </tr>\n",
       "    <tr>\n",
       "      <th>6</th>\n",
       "      <td>2025-04-09</td>\n",
       "      <td>12.275809</td>\n",
       "      <td>15.794501</td>\n",
       "    </tr>\n",
       "    <tr>\n",
       "      <th>7</th>\n",
       "      <td>2025-04-10</td>\n",
       "      <td>13.714628</td>\n",
       "      <td>12.309942</td>\n",
       "    </tr>\n",
       "    <tr>\n",
       "      <th>8</th>\n",
       "      <td>2025-04-11</td>\n",
       "      <td>10.303186</td>\n",
       "      <td>16.127328</td>\n",
       "    </tr>\n",
       "    <tr>\n",
       "      <th>9</th>\n",
       "      <td>2025-04-14</td>\n",
       "      <td>16.643970</td>\n",
       "      <td>14.392870</td>\n",
       "    </tr>\n",
       "    <tr>\n",
       "      <th>10</th>\n",
       "      <td>2025-04-15</td>\n",
       "      <td>12.465607</td>\n",
       "      <td>10.661184</td>\n",
       "    </tr>\n",
       "    <tr>\n",
       "      <th>11</th>\n",
       "      <td>2025-04-16</td>\n",
       "      <td>12.943759</td>\n",
       "      <td>15.580614</td>\n",
       "    </tr>\n",
       "    <tr>\n",
       "      <th>12</th>\n",
       "      <td>2025-04-17</td>\n",
       "      <td>13.974250</td>\n",
       "      <td>17.539549</td>\n",
       "    </tr>\n",
       "    <tr>\n",
       "      <th>13</th>\n",
       "      <td>2025-04-18</td>\n",
       "      <td>23.129608</td>\n",
       "      <td>73.060378</td>\n",
       "    </tr>\n",
       "    <tr>\n",
       "      <th>14</th>\n",
       "      <td>2025-04-21</td>\n",
       "      <td>22.056978</td>\n",
       "      <td>18.921813</td>\n",
       "    </tr>\n",
       "    <tr>\n",
       "      <th>15</th>\n",
       "      <td>2025-04-22</td>\n",
       "      <td>12.371122</td>\n",
       "      <td>20.840384</td>\n",
       "    </tr>\n",
       "    <tr>\n",
       "      <th>16</th>\n",
       "      <td>2025-04-23</td>\n",
       "      <td>11.562641</td>\n",
       "      <td>15.966551</td>\n",
       "    </tr>\n",
       "    <tr>\n",
       "      <th>17</th>\n",
       "      <td>2025-04-24</td>\n",
       "      <td>10.417960</td>\n",
       "      <td>14.822631</td>\n",
       "    </tr>\n",
       "    <tr>\n",
       "      <th>18</th>\n",
       "      <td>2025-04-25</td>\n",
       "      <td>14.501974</td>\n",
       "      <td>20.339918</td>\n",
       "    </tr>\n",
       "    <tr>\n",
       "      <th>19</th>\n",
       "      <td>2025-04-28</td>\n",
       "      <td>18.503481</td>\n",
       "      <td>11.718937</td>\n",
       "    </tr>\n",
       "    <tr>\n",
       "      <th>20</th>\n",
       "      <td>2025-04-29</td>\n",
       "      <td>10.407554</td>\n",
       "      <td>12.656684</td>\n",
       "    </tr>\n",
       "  </tbody>\n",
       "</table>\n",
       "</div>"
      ],
      "text/plain": [
       "          Date      mape_       mape\n",
       "0   2025-04-01  28.068392   7.808951\n",
       "1   2025-04-02  11.257173  10.901851\n",
       "2   2025-04-03  19.550043  14.333674\n",
       "3   2025-04-04  12.062874  11.592582\n",
       "4   2025-04-07  18.631989   9.126641\n",
       "5   2025-04-08  14.362798  10.838484\n",
       "6   2025-04-09  12.275809  15.794501\n",
       "7   2025-04-10  13.714628  12.309942\n",
       "8   2025-04-11  10.303186  16.127328\n",
       "9   2025-04-14  16.643970  14.392870\n",
       "10  2025-04-15  12.465607  10.661184\n",
       "11  2025-04-16  12.943759  15.580614\n",
       "12  2025-04-17  13.974250  17.539549\n",
       "13  2025-04-18  23.129608  73.060378\n",
       "14  2025-04-21  22.056978  18.921813\n",
       "15  2025-04-22  12.371122  20.840384\n",
       "16  2025-04-23  11.562641  15.966551\n",
       "17  2025-04-24  10.417960  14.822631\n",
       "18  2025-04-25  14.501974  20.339918\n",
       "19  2025-04-28  18.503481  11.718937\n",
       "20  2025-04-29  10.407554  12.656684"
      ]
     },
     "execution_count": 63,
     "metadata": {},
     "output_type": "execute_result"
    }
   ],
   "source": [
    "merge_df"
   ]
  },
  {
   "cell_type": "code",
   "execution_count": null,
   "id": "f5cd1df6-8ec7-44b6-8497-210fc1f97efc",
   "metadata": {},
   "outputs": [],
   "source": []
  }
 ],
 "metadata": {
  "kernelspec": {
   "display_name": "lstm",
   "language": "python",
   "name": "your_venv_name"
  },
  "language_info": {
   "codemirror_mode": {
    "name": "ipython",
    "version": 3
   },
   "file_extension": ".py",
   "mimetype": "text/x-python",
   "name": "python",
   "nbconvert_exporter": "python",
   "pygments_lexer": "ipython3",
   "version": "3.10.12"
  }
 },
 "nbformat": 4,
 "nbformat_minor": 5
}
